{
 "cells": [
  {
   "cell_type": "code",
   "execution_count": 2,
   "id": "1a2b5568-4d19-4930-b0af-51f045eca5c2",
   "metadata": {
    "collapsed": true,
    "jupyter": {
     "outputs_hidden": true
    }
   },
   "outputs": [
    {
     "name": "stdout",
     "output_type": "stream",
     "text": [
      "Collecting matplotlib\n",
      "  Downloading matplotlib-3.7.5-cp38-cp38-win_amd64.whl.metadata (5.8 kB)\n",
      "Collecting contourpy>=1.0.1 (from matplotlib)\n",
      "  Downloading contourpy-1.1.1-cp38-cp38-win_amd64.whl.metadata (5.9 kB)\n",
      "Collecting cycler>=0.10 (from matplotlib)\n",
      "  Using cached cycler-0.12.1-py3-none-any.whl.metadata (3.8 kB)\n",
      "Collecting fonttools>=4.22.0 (from matplotlib)\n",
      "  Downloading fonttools-4.54.1-cp38-cp38-win_amd64.whl.metadata (167 kB)\n",
      "Collecting kiwisolver>=1.0.1 (from matplotlib)\n",
      "  Downloading kiwisolver-1.4.7-cp38-cp38-win_amd64.whl.metadata (6.4 kB)\n",
      "Requirement already satisfied: numpy<2,>=1.20 in c:\\users\\lokesh\\anaconda3\\envs\\signature_recognition\\envs\\seg\\lib\\site-packages (from matplotlib) (1.24.4)\n",
      "Requirement already satisfied: packaging>=20.0 in c:\\users\\lokesh\\anaconda3\\envs\\signature_recognition\\envs\\seg\\lib\\site-packages (from matplotlib) (24.1)\n",
      "Collecting pillow>=6.2.0 (from matplotlib)\n",
      "  Using cached pillow-10.4.0-cp38-cp38-win_amd64.whl.metadata (9.3 kB)\n",
      "Collecting pyparsing>=2.3.1 (from matplotlib)\n",
      "  Using cached pyparsing-3.1.4-py3-none-any.whl.metadata (5.1 kB)\n",
      "Requirement already satisfied: python-dateutil>=2.7 in c:\\users\\lokesh\\anaconda3\\envs\\signature_recognition\\envs\\seg\\lib\\site-packages (from matplotlib) (2.9.0.post0)\n",
      "Requirement already satisfied: importlib-resources>=3.2.0 in c:\\users\\lokesh\\anaconda3\\envs\\signature_recognition\\envs\\seg\\lib\\site-packages (from matplotlib) (6.4.5)\n",
      "Requirement already satisfied: zipp>=3.1.0 in c:\\users\\lokesh\\anaconda3\\envs\\signature_recognition\\envs\\seg\\lib\\site-packages (from importlib-resources>=3.2.0->matplotlib) (3.20.2)\n",
      "Requirement already satisfied: six>=1.5 in c:\\users\\lokesh\\anaconda3\\envs\\signature_recognition\\envs\\seg\\lib\\site-packages (from python-dateutil>=2.7->matplotlib) (1.16.0)\n",
      "Downloading matplotlib-3.7.5-cp38-cp38-win_amd64.whl (7.5 MB)\n",
      "   ---------------------------------------- 0.0/7.5 MB ? eta -:--:--\n",
      "   ----- ---------------------------------- 1.0/7.5 MB 7.2 MB/s eta 0:00:01\n",
      "   --------- ------------------------------ 1.8/7.5 MB 5.6 MB/s eta 0:00:02\n",
      "   ------------ --------------------------- 2.4/7.5 MB 4.3 MB/s eta 0:00:02\n",
      "   --------------- ------------------------ 2.9/7.5 MB 4.0 MB/s eta 0:00:02\n",
      "   ------------------- -------------------- 3.7/7.5 MB 3.6 MB/s eta 0:00:02\n",
      "   ---------------------- ----------------- 4.2/7.5 MB 3.4 MB/s eta 0:00:01\n",
      "   ------------------------- -------------- 4.7/7.5 MB 3.3 MB/s eta 0:00:01\n",
      "   --------------------------- ------------ 5.2/7.5 MB 3.2 MB/s eta 0:00:01\n",
      "   ------------------------------ --------- 5.8/7.5 MB 3.2 MB/s eta 0:00:01\n",
      "   --------------------------------- ------ 6.3/7.5 MB 3.2 MB/s eta 0:00:01\n",
      "   ------------------------------------- -- 7.1/7.5 MB 3.1 MB/s eta 0:00:01\n",
      "   ---------------------------------------- 7.5/7.5 MB 3.0 MB/s eta 0:00:00\n",
      "Downloading contourpy-1.1.1-cp38-cp38-win_amd64.whl (477 kB)\n",
      "Using cached cycler-0.12.1-py3-none-any.whl (8.3 kB)\n",
      "Downloading fonttools-4.54.1-cp38-cp38-win_amd64.whl (1.5 MB)\n",
      "   ---------------------------------------- 0.0/1.5 MB ? eta -:--:--\n",
      "   ------------- -------------------------- 0.5/1.5 MB 3.4 MB/s eta 0:00:01\n",
      "   ---------------------------------- ----- 1.3/1.5 MB 3.5 MB/s eta 0:00:01\n",
      "   ---------------------------------------- 1.5/1.5 MB 3.1 MB/s eta 0:00:00\n",
      "Downloading kiwisolver-1.4.7-cp38-cp38-win_amd64.whl (55 kB)\n",
      "Using cached pillow-10.4.0-cp38-cp38-win_amd64.whl (2.6 MB)\n",
      "Using cached pyparsing-3.1.4-py3-none-any.whl (104 kB)\n",
      "Installing collected packages: pyparsing, pillow, kiwisolver, fonttools, cycler, contourpy, matplotlib\n",
      "Successfully installed contourpy-1.1.1 cycler-0.12.1 fonttools-4.54.1 kiwisolver-1.4.7 matplotlib-3.7.5 pillow-10.4.0 pyparsing-3.1.4\n"
     ]
    }
   ],
   "source": [
    "!pip install matplotlib"
   ]
  },
  {
   "cell_type": "markdown",
   "id": "1f8c0f72-4af9-47bd-ad41-3c88c0b83933",
   "metadata": {},
   "source": [
    "#### Importing the libraries"
   ]
  },
  {
   "cell_type": "code",
   "execution_count": 1,
   "id": "fdf03630-7405-4f4a-aa2a-d9d596830d81",
   "metadata": {},
   "outputs": [],
   "source": [
    "import os\n",
    "import torch\n",
    "import numpy as np\n",
    "import matplotlib.pyplot as plt\n",
    "import pandas as pd\n",
    "from tqdm import tqdm\n",
    "import torch.nn.functional as F"
   ]
  },
  {
   "cell_type": "markdown",
   "id": "2b0b8f45-6edb-472d-9619-8fdb9a5399a6",
   "metadata": {},
   "source": [
    "#### Root data directory part"
   ]
  },
  {
   "cell_type": "code",
   "execution_count": 2,
   "id": "996f09e2-4ae5-4444-8e23-e23eab4ff2a4",
   "metadata": {},
   "outputs": [],
   "source": [
    "data_dir = r\"C:\\Users\\Lokesh\\PycharmProjects\\Signature_Recognition\\notebook\\Signature_data\""
   ]
  },
  {
   "cell_type": "markdown",
   "id": "52293517-b9ba-4e89-8b81-1b8f7fcc4150",
   "metadata": {},
   "source": [
    "#### Total number of classes"
   ]
  },
  {
   "cell_type": "code",
   "execution_count": 3,
   "id": "cf1a7ec2-eb1a-4c01-9241-7d85f1d56225",
   "metadata": {},
   "outputs": [
    {
     "data": {
      "text/plain": [
       "2"
      ]
     },
     "execution_count": 3,
     "metadata": {},
     "output_type": "execute_result"
    }
   ],
   "source": [
    "class_name = os.listdir(data_dir)\n",
    "len(class_name)"
   ]
  },
  {
   "cell_type": "code",
   "execution_count": 4,
   "id": "02ef666a-3d60-480f-adf7-e6f6c46fa707",
   "metadata": {},
   "outputs": [],
   "source": [
    "from torchvision.datasets import ImageFolder\n",
    "from torch.utils.data import DataLoader\n",
    "from torchvision.utils import make_grid\n",
    "from torchvision import transforms as T, datasets"
   ]
  },
  {
   "cell_type": "markdown",
   "id": "3016c4c4-a9a2-4b3f-9382-cf640479cf4c",
   "metadata": {},
   "source": [
    "#### Checking the CUDA availability"
   ]
  },
  {
   "cell_type": "code",
   "execution_count": 5,
   "id": "ff2789f1-4e81-412f-84f6-3d9ad714640d",
   "metadata": {},
   "outputs": [
    {
     "name": "stdout",
     "output_type": "stream",
     "text": [
      "Device:cpu\n"
     ]
    }
   ],
   "source": [
    "device = torch.device(\"cuda\" if torch.cuda.is_available() else \"cpu\")\n",
    "print(\"Device:{}\".format(device))"
   ]
  },
  {
   "cell_type": "markdown",
   "id": "fac4a192-5eb5-4775-a72e-901b74208cfb",
   "metadata": {},
   "source": [
    "#### Transforming the data"
   ]
  },
  {
   "cell_type": "code",
   "execution_count": 6,
   "id": "002126b5-bf2f-4b18-9386-502ed5c9b556",
   "metadata": {},
   "outputs": [],
   "source": [
    "data_transform = T.Compose([T.Resize(size=(224,224)), #Resizing the image to be 224 by 224\n",
    "                            T.RandomRotation(degrees=(-20,+20)), #Randomly rotate images by +/- 20 degrees, Image Augmentation for each epoch\n",
    "                            T.ToTensor(), #Converting dimension from (height,weight,channel) to (channel,height,weight) convention of PyTorch\n",
    "                            T.Normalize([0.485,0.456,0.406],[0.229,0.224,0.225]) #Normalize by 3 mean 3 STD's of the image net, 3 channels\n",
    "                           ])\n",
    "                            "
   ]
  },
  {
   "cell_type": "code",
   "execution_count": 7,
   "id": "d4684f99-ac09-417d-8211-1c6352010144",
   "metadata": {},
   "outputs": [],
   "source": [
    "data = datasets.ImageFolder(data_dir, transform=data_transform)\n",
    "total_count = len(data)"
   ]
  },
  {
   "cell_type": "code",
   "execution_count": 8,
   "id": "1df78d48-5f76-454d-a5c2-392964199ead",
   "metadata": {},
   "outputs": [
    {
     "data": {
      "text/plain": [
       "2640"
      ]
     },
     "execution_count": 8,
     "metadata": {},
     "output_type": "execute_result"
    }
   ],
   "source": [
    "total_count"
   ]
  },
  {
   "cell_type": "code",
   "execution_count": 9,
   "id": "ac836080-8128-46aa-82ef-1d11f628d12d",
   "metadata": {},
   "outputs": [
    {
     "data": {
      "text/plain": [
       "['Forged', 'Original']"
      ]
     },
     "execution_count": 9,
     "metadata": {},
     "output_type": "execute_result"
    }
   ],
   "source": [
    "data.classes"
   ]
  },
  {
   "cell_type": "markdown",
   "id": "21a1f99b-a7d5-441f-87d7-ed2886c03361",
   "metadata": {},
   "source": [
    "#### Splitting the data"
   ]
  },
  {
   "cell_type": "code",
   "execution_count": 10,
   "id": "03b32bff-63bc-4347-89c1-f59379430650",
   "metadata": {},
   "outputs": [],
   "source": [
    "train_count = int(0.6 * total_count)\n",
    "valid_count = int(0.3 * total_count)\n",
    "test_count = total_count - train_count - valid_count\n",
    "train_data, valid_data, test_data = torch.utils.data.random_split(data, (train_count, valid_count, test_count))"
   ]
  },
  {
   "cell_type": "code",
   "execution_count": 11,
   "id": "19ef0dce-ffd0-4118-b46f-eeea204076a6",
   "metadata": {},
   "outputs": [
    {
     "data": {
      "text/plain": [
       "1584"
      ]
     },
     "execution_count": 11,
     "metadata": {},
     "output_type": "execute_result"
    }
   ],
   "source": [
    "len(train_data.indices)"
   ]
  },
  {
   "cell_type": "code",
   "execution_count": 12,
   "id": "4e499087-ea5e-4f4a-bdb2-38a0b5166fba",
   "metadata": {},
   "outputs": [
    {
     "data": {
      "text/plain": [
       "264"
      ]
     },
     "execution_count": 12,
     "metadata": {},
     "output_type": "execute_result"
    }
   ],
   "source": [
    "len(test_data.indices)"
   ]
  },
  {
   "cell_type": "code",
   "execution_count": 13,
   "id": "f20e9735-c539-4e52-a3dd-ff503bd6a3ec",
   "metadata": {},
   "outputs": [
    {
     "data": {
      "text/plain": [
       "792"
      ]
     },
     "execution_count": 13,
     "metadata": {},
     "output_type": "execute_result"
    }
   ],
   "source": [
    "len(valid_data.indices)"
   ]
  },
  {
   "cell_type": "markdown",
   "id": "0c1f2716-79e5-4b6d-90fb-dcfe9b106e8e",
   "metadata": {},
   "source": [
    "#### Defining some functions"
   ]
  },
  {
   "cell_type": "code",
   "execution_count": 14,
   "id": "cf36b1f0-c761-4f51-9a7c-5c46b9a3d73f",
   "metadata": {},
   "outputs": [],
   "source": [
    "def show_image(image,label,get_denormalize = True):\n",
    "\n",
    "    image = image.permute(1,2,0)\n",
    "    mean = torch.FloatTensor([0.485, 0.456, 0.406])\n",
    "    std = torch.FloatTensor([0.229, 0.224, 0.225])\n",
    "\n",
    "    if get_denormalize == True:\n",
    "        image = image*std + mean\n",
    "        image = np.clip(image,0,1)\n",
    "        plt.imshow(image)\n",
    "        plt.title(label)\n",
    "\n",
    "    else:\n",
    "        plt.imshow(image)\n",
    "        plt.title(label)\n",
    "\n",
    "def accuracy(y_pred, y_true):\n",
    "    y_pred = F.softmax(y_pred, dim=1)\n",
    "    top_p,top_class = y_pred.topk(1, dim=1)\n",
    "    equals = top_class == y_true.view(*top_class.shape)\n",
    "    return torch.mean(equals.type(torch.FloatTensor))\n",
    "    "
   ]
  },
  {
   "cell_type": "code",
   "execution_count": 15,
   "id": "0de5ff84-c0d9-4d2e-89d7-f3741615bda2",
   "metadata": {},
   "outputs": [
    {
     "data": {
      "image/png": "[encoded data removed]",
      "text/plain": [
       "<Figure size 640x480 with 1 Axes>"
      ]
     },
     "metadata": {},
     "output_type": "display_data"
    }
   ],
   "source": [
    "img, label = train_data[0]\n",
    "show_image(img, label)"
   ]
  },
  {
   "cell_type": "markdown",
   "id": "cc31299f-44f8-4319-876e-fee311dc14c4",
   "metadata": {},
   "source": [
    "#### Data Loaders"
   ]
  },
  {
   "cell_type": "code",
   "execution_count": 16,
   "id": "dcb4ee28-cc53-415a-8507-28def5cb35df",
   "metadata": {},
   "outputs": [
    {
     "name": "stdout",
     "output_type": "stream",
     "text": [
      "No. of batches in trainloader: 50\n",
      "No. of Total examples: 1584\n",
      "No. of batches in validationloader: 25\n",
      "No. of Total examples: 792\n",
      "No. of batches in testloader: 9\n",
      "No. of Total examples: 264\n"
     ]
    }
   ],
   "source": [
    "trainloader = DataLoader(train_data, batch_size=32, shuffle=True)\n",
    "print(\"No. of batches in trainloader: {}\".format(len(trainloader)))\n",
    "print(\"No. of Total examples: {}\".format(len(trainloader.dataset)))\n",
    "\n",
    "validationloader = DataLoader(valid_data, batch_size=32, shuffle=True)\n",
    "print(\"No. of batches in validationloader: {}\".format(len(validationloader)))\n",
    "print(\"No. of Total examples: {}\".format(len(validationloader.dataset)))\n",
    "\n",
    "testloader = DataLoader(test_data, batch_size=32, shuffle=False)\n",
    "print(\"No. of batches in testloader: {}\".format(len(testloader)))\n",
    "print(\"No. of Total examples: {}\".format(len(testloader.dataset)))"
   ]
  },
  {
   "cell_type": "markdown",
   "id": "3e0b51b5-6277-46f4-8231-9c74ff38e354",
   "metadata": {},
   "source": [
    "#### Model"
   ]
  },
  {
   "cell_type": "code",
   "execution_count": 17,
   "id": "4f6bad32-980f-4f5f-a345-aa4c6ed3796e",
   "metadata": {},
   "outputs": [],
   "source": [
    "import torch\n",
    "import torch.nn as nn\n",
    "import torch.nn.functional as F\n",
    "import torch.optim as optim\n",
    "from torchvision import models\n",
    "import torchvision.transforms as transforms"
   ]
  },
  {
   "cell_type": "code",
   "execution_count": 19,
   "id": "d2b49e03-1fa3-43ea-b1cf-60c51246ec36",
   "metadata": {},
   "outputs": [
    {
     "name": "stderr",
     "output_type": "stream",
     "text": [
      "C:\\Users\\Lokesh\\anaconda3\\envs\\Signature_Recognition\\envs\\seg\\lib\\site-packages\\torchvision\\models\\_utils.py:208: UserWarning: The parameter 'pretrained' is deprecated since 0.13 and may be removed in the future, please use 'weights' instead.\n",
      "  warnings.warn(\n",
      "C:\\Users\\Lokesh\\anaconda3\\envs\\Signature_Recognition\\envs\\seg\\lib\\site-packages\\torchvision\\models\\_utils.py:223: UserWarning: Arguments other than a weight enum or `None` for 'weights' are deprecated since 0.13 and may be removed in the future. The current behavior is equivalent to passing `weights=ResNet34_Weights.IMAGENET1K_V1`. You can also use `weights=ResNet34_Weights.DEFAULT` to get the most up-to-date weights.\n",
      "  warnings.warn(msg)\n",
      "Downloading: \"https://download.pytorch.org/models/resnet34-b627a593.pth\" to C:\\Users\\Lokesh/.cache\\torch\\hub\\checkpoints\\resnet34-b627a593.pth\n",
      "100%|█████████████████████████████████████████████████████████████████████████████████████████████████████████████████████████| 83.3M/83.3M [00:52<00:00, 1.66MB/s]\n"
     ]
    }
   ],
   "source": [
    "model = models.resnet34(pretrained=True)"
   ]
  },
  {
   "cell_type": "code",
   "execution_count": 20,
   "id": "9af4e685-56f3-449e-a3ab-a9b2ab81f295",
   "metadata": {},
   "outputs": [],
   "source": [
    "model.fc = nn.Sequential(\n",
    "    nn.Dropout(0.1),\n",
    "    nn.Linear(model.fc.in_features, len(class_name))\n",
    ")\n",
    "model = model.to(device)\n",
    "\n",
    "criterion = torch.nn.CrossEntropyLoss()\n",
    "optimizer = torch.optim.SGD(model.parameters(), lr=1e-3, momentum=0.9) "
   ]
  },
  {
   "cell_type": "markdown",
   "id": "70849734-443f-4f46-b82a-1e6628377b74",
   "metadata": {},
   "source": [
    "#### Model training function require by Pytorch"
   ]
  },
  {
   "cell_type": "code",
   "execution_count": 21,
   "id": "8f20a75a-fcfe-4ec2-aff4-03b5b0560931",
   "metadata": {},
   "outputs": [],
   "source": [
    "def train(model, criterion, optimizer, train_dataloader, test_dataloader):\n",
    "\n",
    "    total_train_loss = 0\n",
    "    total_test_loss = 0\n",
    "\n",
    "    model.train()\n",
    "    with tqdm(train_dataloader, unit='batch', leave=False) as pbar:\n",
    "        pbar.set_description(f'training')\n",
    "        for images, idxs in pbar:\n",
    "            images = images.to(device, non_blocking=True)\n",
    "            idxs = idxs.to(device, non_blocking=True)\n",
    "            output = model(images)\n",
    "\n",
    "            loss = criterion(output, idxs)\n",
    "            total_train_loss += loss.item()\n",
    "\n",
    "            loss.backward()\n",
    "            optimizer.step()\n",
    "            optimizer.zero_grad(set_to_none=True)\n",
    "            \n",
    "    model.eval()\n",
    "    with tqdm(test_dataloader, unit='batch', leave=False) as pbar:\n",
    "        pbar.set_description(f'testing')\n",
    "        for images, idxs in pbar:\n",
    "            images = images.to(device, non_blocking=True)\n",
    "            idxs = idxs.to(device, non_blocking=True)\n",
    "            output = model(images)\n",
    "\n",
    "            loss = criterion(output, idxs)\n",
    "            total_test_loss += loss.item()\n",
    "\n",
    "    train_acc = total_train_loss / len(train_data)\n",
    "    test_acc = total_test_loss / len(valid_data)\n",
    "    print(f'Train loss: {train_acc:.4f} Test loss: {test_acc:.4f}')"
   ]
  },
  {
   "cell_type": "code",
   "execution_count": 23,
   "id": "8eebdb3c-6e3a-4d13-a48c-66f792b9cf3d",
   "metadata": {},
   "outputs": [
    {
     "name": "stdout",
     "output_type": "stream",
     "text": [
      "Epoch 1/5\n"
     ]
    },
    {
     "name": "stderr",
     "output_type": "stream",
     "text": [
      "                                                                                                                                                                   \r"
     ]
    },
    {
     "name": "stdout",
     "output_type": "stream",
     "text": [
      "Train loss: 0.0004 Test loss: 0.0003\n",
      "Epoch 2/5\n"
     ]
    },
    {
     "name": "stderr",
     "output_type": "stream",
     "text": [
      "                                                                                                                                                                   \r"
     ]
    },
    {
     "name": "stdout",
     "output_type": "stream",
     "text": [
      "Train loss: 0.0004 Test loss: 0.0001\n",
      "Epoch 3/5\n"
     ]
    },
    {
     "name": "stderr",
     "output_type": "stream",
     "text": [
      "                                                                                                                                                                   \r"
     ]
    },
    {
     "name": "stdout",
     "output_type": "stream",
     "text": [
      "Train loss: 0.0003 Test loss: 0.0002\n",
      "Epoch 4/5\n"
     ]
    },
    {
     "name": "stderr",
     "output_type": "stream",
     "text": [
      "                                                                                                                                                                   \r"
     ]
    },
    {
     "name": "stdout",
     "output_type": "stream",
     "text": [
      "Train loss: 0.0002 Test loss: 0.0000\n",
      "Epoch 5/5\n"
     ]
    },
    {
     "name": "stderr",
     "output_type": "stream",
     "text": [
      "                                                                                                                                                                   "
     ]
    },
    {
     "name": "stdout",
     "output_type": "stream",
     "text": [
      "Train loss: 0.0003 Test loss: 0.0001\n",
      "CPU times: total: 2h 2min 43s\n",
      "Wall time: 41min 18s\n"
     ]
    },
    {
     "name": "stderr",
     "output_type": "stream",
     "text": [
      "\r"
     ]
    }
   ],
   "source": [
    "%%time\n",
    "epochs=5\n",
    "for i in range(epochs):\n",
    "    print(f\"Epoch {i+1}/{epochs}\")\n",
    "    train(model, criterion, optimizer, trainloader, validationloader)"
   ]
  },
  {
   "cell_type": "markdown",
   "id": "e039540b-7ca8-4921-8a95-f4046940fb5c",
   "metadata": {},
   "source": [
    "#### Model Saving"
   ]
  },
  {
   "cell_type": "code",
   "execution_count": 24,
   "id": "d1d4706b-9362-4cfd-9f9e-a2124097f711",
   "metadata": {},
   "outputs": [
    {
     "data": {
      "text/plain": [
       "'C:\\\\Users\\\\Lokesh\\\\PycharmProjects\\\\Signature_Recognition\\\\notebook'"
      ]
     },
     "execution_count": 24,
     "metadata": {},
     "output_type": "execute_result"
    }
   ],
   "source": [
    "pwd"
   ]
  },
  {
   "cell_type": "code",
   "execution_count": 25,
   "id": "4e8425ad-068c-46cf-8764-ed78c313b0b4",
   "metadata": {},
   "outputs": [],
   "source": [
    "Path = r'C:\\\\Users\\\\Lokesh\\\\PycharmProjects\\\\Signature_Recognition\\\\notebook\\\\model.pt'\n",
    "torch.save(model, Path)"
   ]
  },
  {
   "cell_type": "markdown",
   "id": "c5b26335-73a4-4563-aaca-6711d11e764d",
   "metadata": {},
   "source": [
    "#### Loading torch model"
   ]
  },
  {
   "cell_type": "code",
   "execution_count": 26,
   "id": "3cb46016-4e2d-4b80-832d-de2e3e2a4dc3",
   "metadata": {},
   "outputs": [
    {
     "name": "stderr",
     "output_type": "stream",
     "text": [
      "C:\\Users\\Lokesh\\AppData\\Local\\Temp\\ipykernel_6092\\424075518.py:2: FutureWarning: You are using `torch.load` with `weights_only=False` (the current default value), which uses the default pickle module implicitly. It is possible to construct malicious pickle data which will execute arbitrary code during unpickling (See https://github.com/pytorch/pytorch/blob/main/SECURITY.md#untrusted-models for more details). In a future release, the default value for `weights_only` will be flipped to `True`. This limits the functions that could be executed during unpickling. Arbitrary objects will no longer be allowed to be loaded via this mode unless they are explicitly allowlisted by the user via `torch.serialization.add_safe_globals`. We recommend you start setting `weights_only=True` for any use case where you don't have full control of the loaded file. Please open an issue on GitHub for any issues related to this experimental feature.\n",
      "  model = torch.load(Path)\n"
     ]
    },
    {
     "data": {
      "text/plain": [
       "ResNet(\n",
       "  (conv1): Conv2d(3, 64, kernel_size=(7, 7), stride=(2, 2), padding=(3, 3), bias=False)\n",
       "  (bn1): BatchNorm2d(64, eps=1e-05, momentum=0.1, affine=True, track_running_stats=True)\n",
       "  (relu): ReLU(inplace=True)\n",
       "  (maxpool): MaxPool2d(kernel_size=3, stride=2, padding=1, dilation=1, ceil_mode=False)\n",
       "  (layer1): Sequential(\n",
       "    (0): BasicBlock(\n",
       "      (conv1): Conv2d(64, 64, kernel_size=(3, 3), stride=(1, 1), padding=(1, 1), bias=False)\n",
       "      (bn1): BatchNorm2d(64, eps=1e-05, momentum=0.1, affine=True, track_running_stats=True)\n",
       "      (relu): ReLU(inplace=True)\n",
       "      (conv2): Conv2d(64, 64, kernel_size=(3, 3), stride=(1, 1), padding=(1, 1), bias=False)\n",
       "      (bn2): BatchNorm2d(64, eps=1e-05, momentum=0.1, affine=True, track_running_stats=True)\n",
       "    )\n",
       "    (1): BasicBlock(\n",
       "      (conv1): Conv2d(64, 64, kernel_size=(3, 3), stride=(1, 1), padding=(1, 1), bias=False)\n",
       "      (bn1): BatchNorm2d(64, eps=1e-05, momentum=0.1, affine=True, track_running_stats=True)\n",
       "      (relu): ReLU(inplace=True)\n",
       "      (conv2): Conv2d(64, 64, kernel_size=(3, 3), stride=(1, 1), padding=(1, 1), bias=False)\n",
       "      (bn2): BatchNorm2d(64, eps=1e-05, momentum=0.1, affine=True, track_running_stats=True)\n",
       "    )\n",
       "    (2): BasicBlock(\n",
       "      (conv1): Conv2d(64, 64, kernel_size=(3, 3), stride=(1, 1), padding=(1, 1), bias=False)\n",
       "      (bn1): BatchNorm2d(64, eps=1e-05, momentum=0.1, affine=True, track_running_stats=True)\n",
       "      (relu): ReLU(inplace=True)\n",
       "      (conv2): Conv2d(64, 64, kernel_size=(3, 3), stride=(1, 1), padding=(1, 1), bias=False)\n",
       "      (bn2): BatchNorm2d(64, eps=1e-05, momentum=0.1, affine=True, track_running_stats=True)\n",
       "    )\n",
       "  )\n",
       "  (layer2): Sequential(\n",
       "    (0): BasicBlock(\n",
       "      (conv1): Conv2d(64, 128, kernel_size=(3, 3), stride=(2, 2), padding=(1, 1), bias=False)\n",
       "      (bn1): BatchNorm2d(128, eps=1e-05, momentum=0.1, affine=True, track_running_stats=True)\n",
       "      (relu): ReLU(inplace=True)\n",
       "      (conv2): Conv2d(128, 128, kernel_size=(3, 3), stride=(1, 1), padding=(1, 1), bias=False)\n",
       "      (bn2): BatchNorm2d(128, eps=1e-05, momentum=0.1, affine=True, track_running_stats=True)\n",
       "      (downsample): Sequential(\n",
       "        (0): Conv2d(64, 128, kernel_size=(1, 1), stride=(2, 2), bias=False)\n",
       "        (1): BatchNorm2d(128, eps=1e-05, momentum=0.1, affine=True, track_running_stats=True)\n",
       "      )\n",
       "    )\n",
       "    (1): BasicBlock(\n",
       "      (conv1): Conv2d(128, 128, kernel_size=(3, 3), stride=(1, 1), padding=(1, 1), bias=False)\n",
       "      (bn1): BatchNorm2d(128, eps=1e-05, momentum=0.1, affine=True, track_running_stats=True)\n",
       "      (relu): ReLU(inplace=True)\n",
       "      (conv2): Conv2d(128, 128, kernel_size=(3, 3), stride=(1, 1), padding=(1, 1), bias=False)\n",
       "      (bn2): BatchNorm2d(128, eps=1e-05, momentum=0.1, affine=True, track_running_stats=True)\n",
       "    )\n",
       "    (2): BasicBlock(\n",
       "      (conv1): Conv2d(128, 128, kernel_size=(3, 3), stride=(1, 1), padding=(1, 1), bias=False)\n",
       "      (bn1): BatchNorm2d(128, eps=1e-05, momentum=0.1, affine=True, track_running_stats=True)\n",
       "      (relu): ReLU(inplace=True)\n",
       "      (conv2): Conv2d(128, 128, kernel_size=(3, 3), stride=(1, 1), padding=(1, 1), bias=False)\n",
       "      (bn2): BatchNorm2d(128, eps=1e-05, momentum=0.1, affine=True, track_running_stats=True)\n",
       "    )\n",
       "    (3): BasicBlock(\n",
       "      (conv1): Conv2d(128, 128, kernel_size=(3, 3), stride=(1, 1), padding=(1, 1), bias=False)\n",
       "      (bn1): BatchNorm2d(128, eps=1e-05, momentum=0.1, affine=True, track_running_stats=True)\n",
       "      (relu): ReLU(inplace=True)\n",
       "      (conv2): Conv2d(128, 128, kernel_size=(3, 3), stride=(1, 1), padding=(1, 1), bias=False)\n",
       "      (bn2): BatchNorm2d(128, eps=1e-05, momentum=0.1, affine=True, track_running_stats=True)\n",
       "    )\n",
       "  )\n",
       "  (layer3): Sequential(\n",
       "    (0): BasicBlock(\n",
       "      (conv1): Conv2d(128, 256, kernel_size=(3, 3), stride=(2, 2), padding=(1, 1), bias=False)\n",
       "      (bn1): BatchNorm2d(256, eps=1e-05, momentum=0.1, affine=True, track_running_stats=True)\n",
       "      (relu): ReLU(inplace=True)\n",
       "      (conv2): Conv2d(256, 256, kernel_size=(3, 3), stride=(1, 1), padding=(1, 1), bias=False)\n",
       "      (bn2): BatchNorm2d(256, eps=1e-05, momentum=0.1, affine=True, track_running_stats=True)\n",
       "      (downsample): Sequential(\n",
       "        (0): Conv2d(128, 256, kernel_size=(1, 1), stride=(2, 2), bias=False)\n",
       "        (1): BatchNorm2d(256, eps=1e-05, momentum=0.1, affine=True, track_running_stats=True)\n",
       "      )\n",
       "    )\n",
       "    (1): BasicBlock(\n",
       "      (conv1): Conv2d(256, 256, kernel_size=(3, 3), stride=(1, 1), padding=(1, 1), bias=False)\n",
       "      (bn1): BatchNorm2d(256, eps=1e-05, momentum=0.1, affine=True, track_running_stats=True)\n",
       "      (relu): ReLU(inplace=True)\n",
       "      (conv2): Conv2d(256, 256, kernel_size=(3, 3), stride=(1, 1), padding=(1, 1), bias=False)\n",
       "      (bn2): BatchNorm2d(256, eps=1e-05, momentum=0.1, affine=True, track_running_stats=True)\n",
       "    )\n",
       "    (2): BasicBlock(\n",
       "      (conv1): Conv2d(256, 256, kernel_size=(3, 3), stride=(1, 1), padding=(1, 1), bias=False)\n",
       "      (bn1): BatchNorm2d(256, eps=1e-05, momentum=0.1, affine=True, track_running_stats=True)\n",
       "      (relu): ReLU(inplace=True)\n",
       "      (conv2): Conv2d(256, 256, kernel_size=(3, 3), stride=(1, 1), padding=(1, 1), bias=False)\n",
       "      (bn2): BatchNorm2d(256, eps=1e-05, momentum=0.1, affine=True, track_running_stats=True)\n",
       "    )\n",
       "    (3): BasicBlock(\n",
       "      (conv1): Conv2d(256, 256, kernel_size=(3, 3), stride=(1, 1), padding=(1, 1), bias=False)\n",
       "      (bn1): BatchNorm2d(256, eps=1e-05, momentum=0.1, affine=True, track_running_stats=True)\n",
       "      (relu): ReLU(inplace=True)\n",
       "      (conv2): Conv2d(256, 256, kernel_size=(3, 3), stride=(1, 1), padding=(1, 1), bias=False)\n",
       "      (bn2): BatchNorm2d(256, eps=1e-05, momentum=0.1, affine=True, track_running_stats=True)\n",
       "    )\n",
       "    (4): BasicBlock(\n",
       "      (conv1): Conv2d(256, 256, kernel_size=(3, 3), stride=(1, 1), padding=(1, 1), bias=False)\n",
       "      (bn1): BatchNorm2d(256, eps=1e-05, momentum=0.1, affine=True, track_running_stats=True)\n",
       "      (relu): ReLU(inplace=True)\n",
       "      (conv2): Conv2d(256, 256, kernel_size=(3, 3), stride=(1, 1), padding=(1, 1), bias=False)\n",
       "      (bn2): BatchNorm2d(256, eps=1e-05, momentum=0.1, affine=True, track_running_stats=True)\n",
       "    )\n",
       "    (5): BasicBlock(\n",
       "      (conv1): Conv2d(256, 256, kernel_size=(3, 3), stride=(1, 1), padding=(1, 1), bias=False)\n",
       "      (bn1): BatchNorm2d(256, eps=1e-05, momentum=0.1, affine=True, track_running_stats=True)\n",
       "      (relu): ReLU(inplace=True)\n",
       "      (conv2): Conv2d(256, 256, kernel_size=(3, 3), stride=(1, 1), padding=(1, 1), bias=False)\n",
       "      (bn2): BatchNorm2d(256, eps=1e-05, momentum=0.1, affine=True, track_running_stats=True)\n",
       "    )\n",
       "  )\n",
       "  (layer4): Sequential(\n",
       "    (0): BasicBlock(\n",
       "      (conv1): Conv2d(256, 512, kernel_size=(3, 3), stride=(2, 2), padding=(1, 1), bias=False)\n",
       "      (bn1): BatchNorm2d(512, eps=1e-05, momentum=0.1, affine=True, track_running_stats=True)\n",
       "      (relu): ReLU(inplace=True)\n",
       "      (conv2): Conv2d(512, 512, kernel_size=(3, 3), stride=(1, 1), padding=(1, 1), bias=False)\n",
       "      (bn2): BatchNorm2d(512, eps=1e-05, momentum=0.1, affine=True, track_running_stats=True)\n",
       "      (downsample): Sequential(\n",
       "        (0): Conv2d(256, 512, kernel_size=(1, 1), stride=(2, 2), bias=False)\n",
       "        (1): BatchNorm2d(512, eps=1e-05, momentum=0.1, affine=True, track_running_stats=True)\n",
       "      )\n",
       "    )\n",
       "    (1): BasicBlock(\n",
       "      (conv1): Conv2d(512, 512, kernel_size=(3, 3), stride=(1, 1), padding=(1, 1), bias=False)\n",
       "      (bn1): BatchNorm2d(512, eps=1e-05, momentum=0.1, affine=True, track_running_stats=True)\n",
       "      (relu): ReLU(inplace=True)\n",
       "      (conv2): Conv2d(512, 512, kernel_size=(3, 3), stride=(1, 1), padding=(1, 1), bias=False)\n",
       "      (bn2): BatchNorm2d(512, eps=1e-05, momentum=0.1, affine=True, track_running_stats=True)\n",
       "    )\n",
       "    (2): BasicBlock(\n",
       "      (conv1): Conv2d(512, 512, kernel_size=(3, 3), stride=(1, 1), padding=(1, 1), bias=False)\n",
       "      (bn1): BatchNorm2d(512, eps=1e-05, momentum=0.1, affine=True, track_running_stats=True)\n",
       "      (relu): ReLU(inplace=True)\n",
       "      (conv2): Conv2d(512, 512, kernel_size=(3, 3), stride=(1, 1), padding=(1, 1), bias=False)\n",
       "      (bn2): BatchNorm2d(512, eps=1e-05, momentum=0.1, affine=True, track_running_stats=True)\n",
       "    )\n",
       "  )\n",
       "  (avgpool): AdaptiveAvgPool2d(output_size=(1, 1))\n",
       "  (fc): Sequential(\n",
       "    (0): Dropout(p=0.1, inplace=False)\n",
       "    (1): Linear(in_features=512, out_features=2, bias=True)\n",
       "  )\n",
       ")"
      ]
     },
     "execution_count": 26,
     "metadata": {},
     "output_type": "execute_result"
    }
   ],
   "source": [
    "# Model class must be defined somewhere\n",
    "model = torch.load(Path)\n",
    "model.eval()"
   ]
  },
  {
   "cell_type": "markdown",
   "id": "50a84d65-6aaa-4604-8b87-ea507874c55d",
   "metadata": {},
   "source": [
    "#### Model Evaluation"
   ]
  },
  {
   "cell_type": "code",
   "execution_count": 27,
   "id": "e9e74664-e5b8-4077-ac48-3bda1bb7e148",
   "metadata": {},
   "outputs": [],
   "source": [
    "def evaluate(model, criterion, optimizer, test_dataloader):\n",
    "    total_test_loss = 0\n",
    "\n",
    "    model.eval()\n",
    "    with tqdm(test_dataloader, unit='batch', leave=False) as pbar:\n",
    "        pbar.set_description(f'testing')\n",
    "        for images, idxs in pbar:\n",
    "            images = images.to(device, non_blocking=True)\n",
    "            idxs = idxs.to(device, non_blocking=True)\n",
    "            output = model(images)\n",
    "\n",
    "            loss = criterion(output, idxs)\n",
    "            total_test_loss += loss.item()\n",
    "\n",
    "    test_acc = total_test_loss / len(valid_data)\n",
    "    print(f'Test loss: {test_acc:.4f}')"
   ]
  },
  {
   "cell_type": "code",
   "execution_count": 28,
   "id": "c17de96f-cb79-469e-ae16-e8aa4ada4794",
   "metadata": {},
   "outputs": [
    {
     "name": "stderr",
     "output_type": "stream",
     "text": [
      "                                                                                                                                                                   "
     ]
    },
    {
     "name": "stdout",
     "output_type": "stream",
     "text": [
      "Test loss: 0.0000\n"
     ]
    },
    {
     "name": "stderr",
     "output_type": "stream",
     "text": [
      "\r"
     ]
    }
   ],
   "source": [
    "evaluate(model, criterion, optimizer, testloader)"
   ]
  },
  {
   "cell_type": "markdown",
   "id": "b9b54a6b-0eac-4841-a6d1-2ded54eb238f",
   "metadata": {},
   "source": [
    "#### Prediction"
   ]
  },
  {
   "cell_type": "code",
   "execution_count": 29,
   "id": "f4f9567c-1e5f-4606-9ea4-f4cfa30f1626",
   "metadata": {},
   "outputs": [
    {
     "data": {
      "text/plain": [
       "['Forged', 'Original']"
      ]
     },
     "execution_count": 29,
     "metadata": {},
     "output_type": "execute_result"
    }
   ],
   "source": [
    "label_names = data.classes\n",
    "label_names"
   ]
  },
  {
   "cell_type": "code",
   "execution_count": 31,
   "id": "6aa9d09c-d000-45fd-ac68-bf5a490298ea",
   "metadata": {},
   "outputs": [
    {
     "name": "stdout",
     "output_type": "stream",
     "text": [
      "Predicted label: 1\n",
      "Predicted class name: Original\n"
     ]
    }
   ],
   "source": [
    "from PIL import Image\n",
    "\n",
    "#Load the image and preprocess it\n",
    "image = Image.open(r'C:\\Users\\Lokesh\\PycharmProjects\\Signature_Recognition\\notebook\\Signature_data\\Original\\original_1_1.png')\n",
    "preprocess = transforms.Compose([\n",
    "    transforms.Resize(size = (224, 224)),\n",
    "    transforms.Grayscale(3),\n",
    "    transforms.ToTensor()\n",
    "])\n",
    "\n",
    "image = preprocess(image)\n",
    "image = image[:3]\n",
    "\n",
    "#Convert the image to a PyTorch tensor and send it to the drive \n",
    "image = image.unsqueeze(0).to(device)\n",
    "\n",
    "#Make prediction\n",
    "with torch.no_grad():\n",
    "    logits = model(image)\n",
    "    probs = torch.softmax(logits, dim=1)\n",
    "    pred_label = torch.argmax(probs, dim=1)\n",
    "\n",
    "#Print the prediction\n",
    "print(f'Predicted label: {pred_label.item()}')\n",
    "\n",
    "#Make the predicted label to the corresponding class name\n",
    "predicted_class_name = label_names[pred_label.item()]\n",
    "\n",
    "#Print the predicted class name\n",
    "print(f'Predicted class name: {predicted_class_name}')"
   ]
  },
  {
   "cell_type": "code",
   "execution_count": null,
   "id": "9a7a3d83-3600-445e-b24f-58bfacd1a219",
   "metadata": {},
   "outputs": [],
   "source": []
  }
 ],
 "metadata": {
  "kernelspec": {
   "display_name": "Python 3 (ipykernel)",
   "language": "python",
   "name": "python3"
  },
  "language_info": {
   "codemirror_mode": {
    "name": "ipython",
    "version": 3
   },
   "file_extension": ".py",
   "mimetype": "text/x-python",
   "name": "python",
   "nbconvert_exporter": "python",
   "pygments_lexer": "ipython3",
   "version": "3.8.19"
  }
 },
 "nbformat": 4,
 "nbformat_minor": 5
}
